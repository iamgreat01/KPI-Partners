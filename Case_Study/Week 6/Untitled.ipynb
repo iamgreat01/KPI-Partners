{
 "cells": [
  {
   "cell_type": "code",
   "execution_count": 1,
   "id": "ebc80b2d",
   "metadata": {},
   "outputs": [],
   "source": [
    "import os"
   ]
  },
  {
   "cell_type": "code",
   "execution_count": 2,
   "id": "a2f4378e",
   "metadata": {},
   "outputs": [
    {
     "name": "stdout",
     "output_type": "stream",
     "text": [
      "Current working directory: C:\\Users\\JIGARPANDEY\\Desktop\\Week 6\n"
     ]
    }
   ],
   "source": [
    "cwd = os.getcwd() # Get the current working \n",
    "print(\"Current working directory:\", cwd)"
   ]
  },
  {
   "cell_type": "code",
   "execution_count": 3,
   "id": "1258a0b0",
   "metadata": {},
   "outputs": [
    {
     "name": "stdout",
     "output_type": "stream",
     "text": [
      "Current working directory before\n",
      "C:\\Users\\JIGARPANDEY\\Desktop\\Week 6\n",
      "\n",
      "Current working directory before\n",
      "C:\\Users\\JIGARPANDEY\\Desktop\n",
      "\n"
     ]
    }
   ],
   "source": [
    "def current_path():\n",
    "    print(\"Current working directory before\")\n",
    "    print(os.getcwd())\n",
    "    print()\n",
    "   \n",
    "   \n",
    " \n",
    "# Printing CWD before\n",
    "current_path()\n",
    "   \n",
    "# Changing the CWD\n",
    "os.chdir('../')\n",
    "   \n",
    "# Printing CWD after\n",
    "current_path()"
   ]
  },
  {
   "cell_type": "code",
   "execution_count": 5,
   "id": "799e21c2",
   "metadata": {},
   "outputs": [],
   "source": [
    "parent_path='C:\\\\Users\\\\JigarPandey\\\\Documents'"
   ]
  },
  {
   "cell_type": "code",
   "execution_count": 6,
   "id": "19f35f2b",
   "metadata": {},
   "outputs": [
    {
     "name": "stdout",
     "output_type": "stream",
     "text": [
      "Directory 'music' created\n"
     ]
    }
   ],
   "source": [
    "import os\n",
    "directory=\"music\"\n",
    "parent_path='C:\\\\Users\\\\JigarPandey\\\\Documents'\n",
    "path=os.path.join(parent_path,directory)\n",
    "os.mkdir(path)\n",
    "print(\"Directory '% s' created\" % directory)"
   ]
  },
  {
   "cell_type": "code",
   "execution_count": 8,
   "id": "5db0e9b3",
   "metadata": {},
   "outputs": [
    {
     "name": "stdout",
     "output_type": "stream",
     "text": [
      "Directory abc created\n",
      "Directory 'c' created\n"
     ]
    }
   ],
   "source": [
    "import os\n",
    "#leaf directory\n",
    "directory='abc'\n",
    "#parent directories\n",
    "parent_directory='C:\\\\Users\\\\JigarPandey\\\\Documents\\\\jigar'\n",
    "#path\n",
    "path=os.path.join(parent_directory,directory)\n",
    "#create the directory 'abc'\n",
    "os.makedirs(path)\n",
    "print('Directory {} created'.format(directory))\n",
    "\n",
    "# Leaf directory\n",
    "directory = \"c\"\n",
    "     \n",
    "# Parent Directories\n",
    "parent_dir ='C:\\\\Users\\\\JigarPandey\\\\Documents\\\\jigar\\\\abc'\n",
    "     \n",
    "# mode\n",
    "mode = 0o666\n",
    "     \n",
    "path = os.path.join(parent_dir, directory)\n",
    "     \n",
    "# Create the directory 'c'\n",
    "     \n",
    "os.makedirs(path, mode)\n",
    "print(\"Directory '% s' created\" % directory)"
   ]
  },
  {
   "cell_type": "code",
   "execution_count": 9,
   "id": "79f7d642",
   "metadata": {},
   "outputs": [
    {
     "name": "stdout",
     "output_type": "stream",
     "text": [
      "Files and directories in ' C:\\Users\\JigarPandey\\Documents ' :\n",
      "['Custom Office Templates', 'desktop.ini', 'jigar', 'music', 'My Music', 'My Pictures', 'My Videos', 'Python Scripts', 'Shell.txt']\n"
     ]
    }
   ],
   "source": [
    "import os\n",
    "path=\"C:\\\\Users\\\\JigarPandey\\\\Documents\"\n",
    "dir_list=os.listdir(path)\n",
    "\n",
    "print(\"Files and directories in '\", path, \"' :\")\n",
    " \n",
    "# print the list\n",
    "print(dir_list)"
   ]
  },
  {
   "cell_type": "code",
   "execution_count": 37,
   "id": "3c4a8f42",
   "metadata": {},
   "outputs": [
    {
     "ename": "FileNotFoundError",
     "evalue": "[WinError 2] The system cannot find the file specified: 'C:\\\\Users\\\\JIGARPANDEY\\\\Documents\\\\jigar\\\\Text.txt'",
     "output_type": "error",
     "traceback": [
      "\u001b[1;31m---------------------------------------------------------------------------\u001b[0m",
      "\u001b[1;31mFileNotFoundError\u001b[0m                         Traceback (most recent call last)",
      "\u001b[1;32mC:\\Users\\JIGARP~1\\AppData\\Local\\Temp/ipykernel_28948/2724472056.py\u001b[0m in \u001b[0;36m<module>\u001b[1;34m\u001b[0m\n\u001b[0;32m      3\u001b[0m \u001b[0mlocation\u001b[0m\u001b[1;33m=\u001b[0m\u001b[1;34m\"C:\\\\Users\\\\JIGARPANDEY\\\\Documents\\\\jigar\"\u001b[0m\u001b[1;33m\u001b[0m\u001b[1;33m\u001b[0m\u001b[0m\n\u001b[0;32m      4\u001b[0m \u001b[0mpath\u001b[0m\u001b[1;33m=\u001b[0m\u001b[0mos\u001b[0m\u001b[1;33m.\u001b[0m\u001b[0mpath\u001b[0m\u001b[1;33m.\u001b[0m\u001b[0mjoin\u001b[0m\u001b[1;33m(\u001b[0m\u001b[0mlocation\u001b[0m\u001b[1;33m,\u001b[0m\u001b[0mfile\u001b[0m\u001b[1;33m)\u001b[0m\u001b[1;33m\u001b[0m\u001b[1;33m\u001b[0m\u001b[0m\n\u001b[1;32m----> 5\u001b[1;33m \u001b[0mos\u001b[0m\u001b[1;33m.\u001b[0m\u001b[0mremove\u001b[0m\u001b[1;33m(\u001b[0m\u001b[0mpath\u001b[0m\u001b[1;33m)\u001b[0m\u001b[1;33m\u001b[0m\u001b[1;33m\u001b[0m\u001b[0m\n\u001b[0m\u001b[0;32m      6\u001b[0m \u001b[1;33m\u001b[0m\u001b[0m\n\u001b[0;32m      7\u001b[0m \u001b[1;31m#lets see the files in 'jigar directory'\u001b[0m\u001b[1;33m\u001b[0m\u001b[1;33m\u001b[0m\u001b[0m\n",
      "\u001b[1;31mFileNotFoundError\u001b[0m: [WinError 2] The system cannot find the file specified: 'C:\\\\Users\\\\JIGARPANDEY\\\\Documents\\\\jigar\\\\Text.txt'"
     ]
    }
   ],
   "source": [
    "import os\n",
    "file=\"Text.txt\"\n",
    "location=\"C:\\\\Users\\\\JIGARPANDEY\\\\Documents\\\\jigar\"\n",
    "path=os.path.join(location,file)\n",
    "os.remove(path)\n",
    "\n",
    "#lets see the files in 'jigar directory'\n",
    "print(\"Files in jigar directory\")\n",
    "print(os.listdir(\"C:\\\\Users\\\\JigarPandey\\\\Documents\\\\jigar\"))"
   ]
  },
  {
   "cell_type": "code",
   "execution_count": 25,
   "id": "05e67760",
   "metadata": {},
   "outputs": [
    {
     "ename": "OSError",
     "evalue": "[WinError 145] The directory is not empty: 'C:\\\\Users\\\\JigarPandey\\\\Documents\\\\jigar\\\\abc\\\\c'",
     "output_type": "error",
     "traceback": [
      "\u001b[1;31m---------------------------------------------------------------------------\u001b[0m",
      "\u001b[1;31mOSError\u001b[0m                                   Traceback (most recent call last)",
      "\u001b[1;32mC:\\Users\\JIGARP~1\\AppData\\Local\\Temp/ipykernel_28948/2633426044.py\u001b[0m in \u001b[0;36m<module>\u001b[1;34m\u001b[0m\n\u001b[0;32m      1\u001b[0m \u001b[1;31m#remove directory name 'c'\u001b[0m\u001b[1;33m\u001b[0m\u001b[1;33m\u001b[0m\u001b[0m\n\u001b[0;32m      2\u001b[0m \u001b[0mpath\u001b[0m\u001b[1;33m=\u001b[0m\u001b[1;34m\"C:\\\\Users\\\\JigarPandey\\\\Documents\\\\jigar\\\\abc\\\\c\"\u001b[0m\u001b[1;33m\u001b[0m\u001b[1;33m\u001b[0m\u001b[0m\n\u001b[1;32m----> 3\u001b[1;33m \u001b[0mos\u001b[0m\u001b[1;33m.\u001b[0m\u001b[0mrmdir\u001b[0m\u001b[1;33m(\u001b[0m\u001b[0mpath\u001b[0m\u001b[1;33m)\u001b[0m\u001b[1;33m\u001b[0m\u001b[1;33m\u001b[0m\u001b[0m\n\u001b[0m",
      "\u001b[1;31mOSError\u001b[0m: [WinError 145] The directory is not empty: 'C:\\\\Users\\\\JigarPandey\\\\Documents\\\\jigar\\\\abc\\\\c'"
     ]
    }
   ],
   "source": [
    "#remove directory name 'c'\n",
    "path=\"C:\\\\Users\\\\JigarPandey\\\\Documents\\\\jigar\\\\abc\\\\c\"\n",
    "os.rmdir(path)"
   ]
  },
  {
   "cell_type": "code",
   "execution_count": null,
   "id": "2f674848",
   "metadata": {},
   "outputs": [],
   "source": []
  }
 ],
 "metadata": {
  "kernelspec": {
   "display_name": "Python 3 (ipykernel)",
   "language": "python",
   "name": "python3"
  },
  "language_info": {
   "codemirror_mode": {
    "name": "ipython",
    "version": 3
   },
   "file_extension": ".py",
   "mimetype": "text/x-python",
   "name": "python",
   "nbconvert_exporter": "python",
   "pygments_lexer": "ipython3",
   "version": "3.9.7"
  }
 },
 "nbformat": 4,
 "nbformat_minor": 5
}
